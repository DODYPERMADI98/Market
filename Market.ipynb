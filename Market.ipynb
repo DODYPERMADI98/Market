{
 "cells": [
  {
   "cell_type": "code",
   "execution_count": 2,
   "metadata": {},
   "outputs": [
    {
     "name": "stdout",
     "output_type": "stream",
     "text": [
      "\n",
      "Detail Belanja\n",
      "\n",
      "Apel    : 2 x 10000\n",
      "Jeruk   : 2 x 15000\n",
      "Anggur  : 2 x 20000\n",
      "\n",
      "Total   : 80000\n",
      "\n",
      "Terimakasih, berikut jumlah kembaliannya:Rp. 20000\n"
     ]
    }
   ],
   "source": [
    "# Init harga dan stock \n",
    "priceApel = 10000\n",
    "priceJeruk = 15000\n",
    "priceAnggur = 20000\n",
    "stockApel = 10\n",
    "stockJeruk = 15\n",
    "stockAnggur = 8\n",
    "\n",
    "\n",
    "# Input jumlah buah\n",
    "while True:\n",
    "    nApel = int(input(\"Input Jumlah Apel\"))\n",
    "    if nApel <= stockApel:\n",
    "        break\n",
    "    else:\n",
    "        print ('Jumlah terlalu banyak. Apel sisa {stockApel}')\n",
    "\n",
    "while True:\n",
    "    nJeruk = int(input(\"Input Jumlah Jeruk\"))\n",
    "    if nJeruk <= stockJeruk:\n",
    "        break\n",
    "    else:\n",
    "        print ('Jumlah terlalu banyak. Jeruk sisa {stockJeruk}')\n",
    "\n",
    "\n",
    "while True:\n",
    "    nAnggur = int(input(\"Input Jumlah Anggur\"))\n",
    "    if nAnggur <= stockAnggur:\n",
    "        break\n",
    "    else:\n",
    "        print ('Jumlah terlalu banyak. Anggur sisa {stockAnggur}')\n",
    "\n",
    "\n",
    "# Hitung harga per buah\n",
    "totalPriceApel = nApel * priceApel\n",
    "totalPriceJeruk = nJeruk * priceJeruk \n",
    "totalPriceAnggur = nAnggur * priceAnggur\n",
    "\n",
    "# Hitung harga total buah\n",
    "priceTotal = totalPriceApel + totalPriceJeruk + totalPriceJeruk\n",
    "\n",
    "\n",
    "\n",
    "# Show\n",
    "print(f'''\n",
    "Detail Belanja\n",
    "\n",
    "Apel    : {nApel} x {priceApel}\n",
    "Jeruk   : {nJeruk} x {priceJeruk}\n",
    "Anggur  : {nAnggur} x {priceAnggur}\n",
    "\n",
    "Total   : {priceTotal}\n",
    "''')\n",
    "\n",
    "while True:\n",
    "    npembayaran = (int(input('Silahkan masukan nominal uang untuk membayar: ')))\n",
    "    selisihpembayaran = npembayaran - priceTotal\n",
    "    if npembayaran < priceTotal:\n",
    "        print (f'Maaf jumlah kekurangan yang anda harus bayar adalah: Rp. {selisihpembayaran}')\n",
    "    elif npembayaran > priceTotal:\n",
    "        print(f'Terima kasih, berikut jumlah kembaliannya:Rp. {selisihpembayaran}')\n",
    "        break\n",
    "    else:\n",
    "        npembayaran == selisihpembayaran\n",
    "        print(f'Terimakasih')\n",
    "        break"
   ]
  }
 ],
 "metadata": {
  "kernelspec": {
   "display_name": "Python 3",
   "language": "python",
   "name": "python3"
  },
  "language_info": {
   "codemirror_mode": {
    "name": "ipython",
    "version": 3
   },
   "file_extension": ".py",
   "mimetype": "text/x-python",
   "name": "python",
   "nbconvert_exporter": "python",
   "pygments_lexer": "ipython3",
   "version": "3.11.4"
  },
  "orig_nbformat": 4
 },
 "nbformat": 4,
 "nbformat_minor": 2
}
